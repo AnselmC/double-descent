{
 "cells": [
  {
   "cell_type": "markdown",
   "metadata": {
    "ein.tags": "worksheet-0",
    "slideshow": {
     "slide_type": "-"
    }
   },
   "source": [
    "* Double descent curve for Random Fourier Features"
   ]
  },
  {
   "cell_type": "markdown",
   "metadata": {
    "ein.tags": "worksheet-0",
    "slideshow": {
     "slide_type": "-"
    }
   },
   "source": [
    "** Standard input"
   ]
  },
  {
   "cell_type": "code",
   "execution_count": 56,
   "metadata": {
    "autoscroll": false,
    "collapsed": false,
    "ein.hycell": false,
    "ein.tags": "worksheet-0",
    "slideshow": {
     "slide_type": "-"
    }
   },
   "outputs": [
    {
     "name": "stdout",
     "output_type": "stream",
     "text": [
      "The autoreload extension is already loaded. To reload it, use:\n",
      "  %reload_ext autoreload\n"
     ]
    }
   ],
   "source": [
    "%matplotlib inline\n",
    "import matplotlib.pyplot as plt\n",
    "import numpy as np\n",
    "import torch\n",
    "import torchvision\n",
    "import torch.nn as nn\n",
    "from caffe2.python.layers.random_fourier_features import RandomFourierFeatures \n",
    "%load_ext autoreload\n",
    "%autoreload 2\n"
   ]
  },
  {
   "cell_type": "markdown",
   "metadata": {
    "ein.tags": "worksheet-0",
    "slideshow": {
     "slide_type": "-"
    }
   },
   "source": [
    "** Load and setup datasets"
   ]
  },
  {
   "cell_type": "code",
   "execution_count": 57,
   "metadata": {
    "autoscroll": false,
    "collapsed": false,
    "ein.hycell": false,
    "ein.tags": "worksheet-0",
    "slideshow": {
     "slide_type": "-"
    }
   },
   "outputs": [],
   "source": [
    "import torchvision.datasets as datasets\n",
    "import torchvision.transforms as transforms\n",
    "from torch.utils.data import DataLoader, sampler\n",
    "\n",
    "transform = transforms.Compose([transforms.ToTensor(),\n",
    "                                transforms.Normalize((0.1307,), (0.3081,)),\n",
    "                                transforms.Lambda(lambda img: img.reshape(-1))])\n",
    "#transform = None\n",
    "mnist_trainset = datasets.MNIST(root='./data',\n",
    "                                download=True,\n",
    "                                train=True,\n",
    "                                transform=transform)\n",
    "train_subset_size = int(4e3)\n",
    "val_subset_size = int(0.2 * train_subset_size)\n",
    "random_train_indices = np.random.randint(len(mnist_trainset),\n",
    "                                         size=train_subset_size)\n",
    "random_val_indices = np.random.choice([x for x in range(len(mnist_trainset))\n",
    "                                       if x not in random_train_indices],\n",
    "                                      size=val_subset_size)\n",
    "mnist_trainloader = DataLoader(mnist_trainset,\n",
    "                               batch_size=64,\n",
    "                               num_workers=4,\n",
    "                               sampler=sampler.SubsetRandomSampler(random_train_indices))\n",
    "mnist_valloader = DataLoader(mnist_trainset,\n",
    "                             batch_size=64,\n",
    "                             num_workers=4,\n",
    "                             sampler=sampler.SubsetRandomSampler(random_val_indices))\n",
    "mnist_testset = datasets.MNIST(root='./data',\n",
    "                               download=True,\n",
    "                               train=False,\n",
    "                               transform=transform)\n",
    "mnist_testloader = DataLoader(mnist_testset,\n",
    "                              batch_size=32,\n",
    "                              shuffle=False,\n",
    "                              num_workers=2)"
   ]
  },
  {
   "cell_type": "code",
   "execution_count": 58,
   "metadata": {
    "autoscroll": false,
    "collapsed": false,
    "ein.hycell": false,
    "ein.tags": "worksheet-0",
    "slideshow": {
     "slide_type": "-"
    }
   },
   "outputs": [],
   "source": [
    "import nets\n",
    "from nets import TwoLayerNN\n"
   ]
  },
  {
   "cell_type": "code",
   "execution_count": 59,
   "metadata": {
    "autoscroll": false,
    "collapsed": false,
    "ein.hycell": false,
    "ein.tags": "worksheet-0",
    "slideshow": {
     "slide_type": "-"
    }
   },
   "outputs": [],
   "source": [
    "# some constants\n",
    "num_classes = 10\n",
    "input_dim = 28 * 28\n",
    "interpolation_threshold = num_classes * subset_size\n",
    "max_epochs = 600\n",
    "num_hidden = list(range(5, 10, 2))\n",
    "num_hidden += list(range(10, 25, 5))\n",
    "num_hidden += list(range(25, 40, 2))\n",
    "num_hidden += list(range(40, 55, 1))\n",
    "num_hidden += list(range(55, 80, 5))\n",
    "num_hidden += list(range(80, 1000, 200))\n"
   ]
  },
  {
   "cell_type": "code",
   "execution_count": 5,
   "metadata": {
    "autoscroll": false,
    "collapsed": false,
    "ein.hycell": false,
    "ein.tags": "worksheet-0",
    "slideshow": {
     "slide_type": "-"
    }
   },
   "outputs": [],
   "source": [
    "mnist_nets = []\n",
    "for h in num_hidden:\n",
    "    net = TwoLayerNN(input_dim, h, num_classes)\n",
    "    mnist_nets.append(net)\n"
   ]
  },
  {
   "cell_type": "code",
   "execution_count": 62,
   "metadata": {
    "autoscroll": false,
    "collapsed": false,
    "ein.hycell": false,
    "ein.tags": "worksheet-0",
    "slideshow": {
     "slide_type": "-"
    }
   },
   "outputs": [
    {
     "name": "stdout",
     "output_type": "stream",
     "text": [
      "==============================\n",
      "TRAINING 39 NETS\n",
      "------------------------------\n",
      "Training net 1 of 39\n"
     ]
    },
    {
     "name": "stdout",
     "output_type": "stream",
     "text": [
      "++++++++++++++++++++++++++++++\n",
      "Finished epoch 1 of 600\n",
      "Training loss is: 4.085596656042432\n",
      "Validation loss is: 3.371214958337637\n"
     ]
    },
    {
     "name": "stdout",
     "output_type": "stream",
     "text": [
      "++++++++++++++++++++++++++++++\n",
      "Finished epoch 21 of 600\n",
      "Training loss is: 0.7103262382840353\n",
      "Validation loss is: 0.8553328422399668\n"
     ]
    },
    {
     "name": "stdout",
     "output_type": "stream",
     "text": [
      "++++++++++++++++++++++++++++++\n",
      "Finished epoch 41 of 600\n",
      "Training loss is: 0.4680971172120836\n",
      "Validation loss is: 0.6851498438761785\n"
     ]
    },
    {
     "name": "stdout",
     "output_type": "stream",
     "text": [
      "++++++++++++++++++++++++++++++\n",
      "Finished epoch 61 of 600\n",
      "Training loss is: 0.38066816566482425\n",
      "Validation loss is: 0.6625151565441718\n"
     ]
    },
    {
     "name": "stdout",
     "output_type": "stream",
     "text": [
      "++++++++++++++++++++++++++++++\n",
      "Finished epoch 81 of 600\n",
      "Training loss is: 0.33322080685978844\n",
      "Validation loss is: 0.6509071886539459\n"
     ]
    },
    {
     "name": "stdout",
     "output_type": "stream",
     "text": [
      "++++++++++++++++++++++++++++++\n",
      "Finished epoch 101 of 600\n",
      "Training loss is: 0.2954488134100324\n",
      "Validation loss is: 0.6674851775169373\n"
     ]
    },
    {
     "name": "stdout",
     "output_type": "stream",
     "text": [
      "++++++++++++++++++++++++++++++\n",
      "Finished epoch 121 of 600\n",
      "Training loss is: 0.2623567117585076\n",
      "Validation loss is: 0.7031504924480731\n"
     ]
    },
    {
     "name": "stdout",
     "output_type": "stream",
     "text": [
      "++++++++++++++++++++++++++++++\n",
      "Finished epoch 141 of 600\n",
      "Training loss is: 0.23188410096225284\n",
      "Validation loss is: 0.7175009892537043\n"
     ]
    },
    {
     "name": "stdout",
     "output_type": "stream",
     "text": [
      "++++++++++++++++++++++++++++++\n",
      "Finished epoch 161 of 600\n",
      "Training loss is: 0.21146953094100196\n",
      "Validation loss is: 0.723048047377513\n"
     ]
    },
    {
     "name": "stdout",
     "output_type": "stream",
     "text": [
      "++++++++++++++++++++++++++++++\n",
      "Finished epoch 181 of 600\n",
      "Training loss is: 0.19120921572995564\n",
      "Validation loss is: 0.7705308909599597\n"
     ]
    },
    {
     "name": "stdout",
     "output_type": "stream",
     "text": [
      "++++++++++++++++++++++++++++++\n",
      "Finished epoch 201 of 600\n",
      "Training loss is: 0.17855619154279195\n",
      "Validation loss is: 0.8075826076360849\n"
     ]
    },
    {
     "name": "stdout",
     "output_type": "stream",
     "text": [
      "++++++++++++++++++++++++++++++\n",
      "Finished epoch 221 of 600\n",
      "Training loss is: 0.16538124058454756\n",
      "Validation loss is: 0.8427844185095567\n"
     ]
    },
    {
     "name": "stdout",
     "output_type": "stream",
     "text": [
      "++++++++++++++++++++++++++++++\n",
      "Finished epoch 241 of 600\n",
      "Training loss is: 0.15208966521516679\n",
      "Validation loss is: 0.8536070493551401\n"
     ]
    },
    {
     "name": "stdout",
     "output_type": "stream",
     "text": [
      "++++++++++++++++++++++++++++++\n",
      "Finished epoch 261 of 600\n",
      "Training loss is: 0.14639154508236854\n",
      "Validation loss is: 0.8781867164831895\n"
     ]
    },
    {
     "name": "stdout",
     "output_type": "stream",
     "text": [
      "++++++++++++++++++++++++++++++\n",
      "Finished epoch 281 of 600\n",
      "Training loss is: 0.1335924475320748\n",
      "Validation loss is: 0.8740232380536886\n"
     ]
    },
    {
     "name": "stdout",
     "output_type": "stream",
     "text": [
      "++++++++++++++++++++++++++++++\n",
      "Finished epoch 301 of 600\n",
      "Training loss is: 0.12607225184402768\n",
      "Validation loss is: 0.9303126633167267\n"
     ]
    },
    {
     "name": "stdout",
     "output_type": "stream",
     "text": [
      "++++++++++++++++++++++++++++++\n",
      "Finished epoch 321 of 600\n",
      "Training loss is: 0.11783458416660626\n",
      "Validation loss is: 0.9545615934408628\n"
     ]
    },
    {
     "name": "stdout",
     "output_type": "stream",
     "text": [
      "++++++++++++++++++++++++++++++\n",
      "Finished epoch 341 of 600\n",
      "Training loss is: 0.10974468426808479\n",
      "Validation loss is: 0.9839032773788159\n"
     ]
    },
    {
     "name": "stdout",
     "output_type": "stream",
     "text": [
      "++++++++++++++++++++++++++++++\n",
      "Finished epoch 361 of 600\n",
      "Training loss is: 0.10302954640180345\n",
      "Validation loss is: 1.0680964038922236\n"
     ]
    },
    {
     "name": "stdout",
     "output_type": "stream",
     "text": [
      "++++++++++++++++++++++++++++++\n",
      "Finished epoch 381 of 600\n",
      "Training loss is: 0.09780942506733395\n",
      "Validation loss is: 1.1269128047502959\n"
     ]
    },
    {
     "name": "stdout",
     "output_type": "stream",
     "text": [
      "++++++++++++++++++++++++++++++\n",
      "Finished epoch 401 of 600\n",
      "Training loss is: 0.0953085669094608\n",
      "Validation loss is: 1.1448192435961504\n"
     ]
    },
    {
     "name": "stdout",
     "output_type": "stream",
     "text": [
      "++++++++++++++++++++++++++++++\n",
      "Finished epoch 421 of 600\n",
      "Training loss is: 0.08949211600517469\n",
      "Validation loss is: 1.14862417945495\n"
     ]
    },
    {
     "name": "stdout",
     "output_type": "stream",
     "text": [
      "++++++++++++++++++++++++++++++\n",
      "Finished epoch 441 of 600\n",
      "Training loss is: 0.08447252953099826\n",
      "Validation loss is: 1.1444910168647766\n"
     ]
    },
    {
     "name": "stdout",
     "output_type": "stream",
     "text": [
      "++++++++++++++++++++++++++++++\n",
      "Finished epoch 461 of 600\n",
      "Training loss is: 0.08029227133189874\n",
      "Validation loss is: 1.2345585502110994\n"
     ]
    },
    {
     "name": "stdout",
     "output_type": "stream",
     "text": [
      "++++++++++++++++++++++++++++++\n",
      "Finished epoch 481 of 600\n",
      "Training loss is: 0.0761659165164308\n",
      "Validation loss is: 1.2872288089532118\n"
     ]
    },
    {
     "name": "stdout",
     "output_type": "stream",
     "text": [
      "++++++++++++++++++++++++++++++\n",
      "Finished epoch 501 of 600\n",
      "Training loss is: 0.07381408856738181\n",
      "Validation loss is: 1.2585127766315753\n"
     ]
    },
    {
     "name": "stdout",
     "output_type": "stream",
     "text": [
      "++++++++++++++++++++++++++++++\n",
      "Finished epoch 521 of 600\n",
      "Training loss is: 0.06931588024137512\n",
      "Validation loss is: 1.3109162908333998\n"
     ]
    },
    {
     "name": "stdout",
     "output_type": "stream",
     "text": [
      "++++++++++++++++++++++++++++++\n",
      "Finished epoch 541 of 600\n",
      "Training loss is: 0.06722445889479584\n",
      "Validation loss is: 1.3375308490716493\n"
     ]
    },
    {
     "name": "stdout",
     "output_type": "stream",
     "text": [
      "++++++++++++++++++++++++++++++\n",
      "Finished epoch 561 of 600\n",
      "Training loss is: 0.06429253645714313\n",
      "Validation loss is: 1.402541797894698\n"
     ]
    },
    {
     "name": "stdout",
     "output_type": "stream",
     "text": [
      "++++++++++++++++++++++++++++++\n",
      "Finished epoch 581 of 600\n",
      "Training loss is: 0.0634354314219857\n",
      "Validation loss is: 1.4350191904948308\n"
     ]
    },
    {
     "name": "stdout",
     "output_type": "stream",
     "text": [
      "==============================\n",
      "Finished training network with 3985 parameters\n",
      "Final train/val loss: 0.05954038010289272\n",
      "Saving network to \"data/nets/mnist_net_3985\"\n"
     ]
    },
    {
     "ename": "FileNotFoundError",
     "evalue": "[Errno 2] No such file or directory: 'data/nets/mnist_net_3985'",
     "output_type": "error",
     "traceback": [
      "\u001b[0;31m\u001b[0m",
      "\u001b[0;31mFileNotFoundError\u001b[0mTraceback (most recent call last)",
      "\u001b[0;32m<ipython-input-62-0facbb7540cd>\u001b[0m in \u001b[0;36m<module>\u001b[0;34m()\u001b[0m\n\u001b[1;32m     69\u001b[0m     \u001b[0mpath\u001b[0m \u001b[0;34m=\u001b[0m \u001b[0mos\u001b[0m\u001b[0;34m.\u001b[0m\u001b[0mpath\u001b[0m\u001b[0;34m.\u001b[0m\u001b[0mjoin\u001b[0m\u001b[0;34m(\u001b[0m\u001b[0;34m\"data\"\u001b[0m\u001b[0;34m,\u001b[0m \u001b[0;34m\"nets\"\u001b[0m\u001b[0;34m,\u001b[0m \u001b[0mnet_name\u001b[0m\u001b[0;34m)\u001b[0m\u001b[0;34m\u001b[0m\u001b[0;34m\u001b[0m\u001b[0m\n\u001b[1;32m     70\u001b[0m     \u001b[0mprint\u001b[0m\u001b[0;34m(\u001b[0m\u001b[0;34m\"Saving network to \\\"{}\\\"\"\u001b[0m\u001b[0;34m.\u001b[0m\u001b[0mformat\u001b[0m\u001b[0;34m(\u001b[0m\u001b[0mpath\u001b[0m\u001b[0;34m)\u001b[0m\u001b[0;34m)\u001b[0m\u001b[0;34m\u001b[0m\u001b[0;34m\u001b[0m\u001b[0m\n\u001b[0;32m---> 71\u001b[0;31m     \u001b[0mtorch\u001b[0m\u001b[0;34m.\u001b[0m\u001b[0msave\u001b[0m\u001b[0;34m(\u001b[0m\u001b[0mnet\u001b[0m\u001b[0;34m.\u001b[0m\u001b[0mstate_dict\u001b[0m\u001b[0;34m(\u001b[0m\u001b[0;34m)\u001b[0m\u001b[0;34m,\u001b[0m \u001b[0mpath\u001b[0m\u001b[0;34m)\u001b[0m\u001b[0;34m\u001b[0m\u001b[0;34m\u001b[0m\u001b[0m\n\u001b[0m\u001b[1;32m     72\u001b[0m     \u001b[0mall_train_losses\u001b[0m\u001b[0;34m[\u001b[0m\u001b[0mnet_name\u001b[0m\u001b[0;34m]\u001b[0m \u001b[0;34m=\u001b[0m \u001b[0mtrain_losses\u001b[0m\u001b[0;34m\u001b[0m\u001b[0;34m\u001b[0m\u001b[0m\n\u001b[1;32m     73\u001b[0m     \u001b[0mall_val_losses\u001b[0m\u001b[0;34m[\u001b[0m\u001b[0mnet_name\u001b[0m\u001b[0;34m]\u001b[0m \u001b[0;34m=\u001b[0m \u001b[0mval_losses\u001b[0m\u001b[0;34m\u001b[0m\u001b[0;34m\u001b[0m\u001b[0m\n",
      "\u001b[0;32m/home/parallels/.local/lib/python3.6/site-packages/torch/serialization.py\u001b[0m in \u001b[0;36msave\u001b[0;34m(obj, f, pickle_module, pickle_protocol)\u001b[0m\n\u001b[1;32m    258\u001b[0m         \u001b[0;34m>>\u001b[0m\u001b[0;34m>\u001b[0m \u001b[0mtorch\u001b[0m\u001b[0;34m.\u001b[0m\u001b[0msave\u001b[0m\u001b[0;34m(\u001b[0m\u001b[0mx\u001b[0m\u001b[0;34m,\u001b[0m \u001b[0mbuffer\u001b[0m\u001b[0;34m)\u001b[0m\u001b[0;34m\u001b[0m\u001b[0;34m\u001b[0m\u001b[0m\n\u001b[1;32m    259\u001b[0m     \"\"\"\n\u001b[0;32m--> 260\u001b[0;31m     \u001b[0;32mreturn\u001b[0m \u001b[0m_with_file_like\u001b[0m\u001b[0;34m(\u001b[0m\u001b[0mf\u001b[0m\u001b[0;34m,\u001b[0m \u001b[0;34m\"wb\"\u001b[0m\u001b[0;34m,\u001b[0m \u001b[0;32mlambda\u001b[0m \u001b[0mf\u001b[0m\u001b[0;34m:\u001b[0m \u001b[0m_save\u001b[0m\u001b[0;34m(\u001b[0m\u001b[0mobj\u001b[0m\u001b[0;34m,\u001b[0m \u001b[0mf\u001b[0m\u001b[0;34m,\u001b[0m \u001b[0mpickle_module\u001b[0m\u001b[0;34m,\u001b[0m \u001b[0mpickle_protocol\u001b[0m\u001b[0;34m)\u001b[0m\u001b[0;34m)\u001b[0m\u001b[0;34m\u001b[0m\u001b[0;34m\u001b[0m\u001b[0m\n\u001b[0m\u001b[1;32m    261\u001b[0m \u001b[0;34m\u001b[0m\u001b[0m\n\u001b[1;32m    262\u001b[0m \u001b[0;34m\u001b[0m\u001b[0m\n",
      "\u001b[0;32m/home/parallels/.local/lib/python3.6/site-packages/torch/serialization.py\u001b[0m in \u001b[0;36m_with_file_like\u001b[0;34m(f, mode, body)\u001b[0m\n\u001b[1;32m    181\u001b[0m             \u001b[0;34m(\u001b[0m\u001b[0msys\u001b[0m\u001b[0;34m.\u001b[0m\u001b[0mversion_info\u001b[0m\u001b[0;34m[\u001b[0m\u001b[0;36m0\u001b[0m\u001b[0;34m]\u001b[0m \u001b[0;34m==\u001b[0m \u001b[0;36m3\u001b[0m \u001b[0;32mand\u001b[0m \u001b[0misinstance\u001b[0m\u001b[0;34m(\u001b[0m\u001b[0mf\u001b[0m\u001b[0;34m,\u001b[0m \u001b[0mpathlib\u001b[0m\u001b[0;34m.\u001b[0m\u001b[0mPath\u001b[0m\u001b[0;34m)\u001b[0m\u001b[0;34m)\u001b[0m\u001b[0;34m:\u001b[0m\u001b[0;34m\u001b[0m\u001b[0;34m\u001b[0m\u001b[0m\n\u001b[1;32m    182\u001b[0m         \u001b[0mnew_fd\u001b[0m \u001b[0;34m=\u001b[0m \u001b[0;32mTrue\u001b[0m\u001b[0;34m\u001b[0m\u001b[0;34m\u001b[0m\u001b[0m\n\u001b[0;32m--> 183\u001b[0;31m         \u001b[0mf\u001b[0m \u001b[0;34m=\u001b[0m \u001b[0mopen\u001b[0m\u001b[0;34m(\u001b[0m\u001b[0mf\u001b[0m\u001b[0;34m,\u001b[0m \u001b[0mmode\u001b[0m\u001b[0;34m)\u001b[0m\u001b[0;34m\u001b[0m\u001b[0;34m\u001b[0m\u001b[0m\n\u001b[0m\u001b[1;32m    184\u001b[0m     \u001b[0;32mtry\u001b[0m\u001b[0;34m:\u001b[0m\u001b[0;34m\u001b[0m\u001b[0;34m\u001b[0m\u001b[0m\n\u001b[1;32m    185\u001b[0m         \u001b[0;32mreturn\u001b[0m \u001b[0mbody\u001b[0m\u001b[0;34m(\u001b[0m\u001b[0mf\u001b[0m\u001b[0;34m)\u001b[0m\u001b[0;34m\u001b[0m\u001b[0;34m\u001b[0m\u001b[0m\n",
      "\u001b[0;31mFileNotFoundError\u001b[0m: [Errno 2] No such file or directory: 'data/nets/mnist_net_3985'"
     ]
    }
   ],
   "source": [
    "import os\n",
    "import torch.optim as optimizers\n",
    "from torch.optim.lr_scheduler import MultiStepLR\n",
    "from nets import initialize_with_previous_weights, initialize_with_previous_bias\n",
    "\n",
    "loss_function = nn.CrossEntropyLoss()\n",
    "all_train_losses = {}\n",
    "all_val_losses = {}\n",
    "all_test_losses = {}\n",
    "print(\"=\" * 30)\n",
    "print(\"TRAINING {} NETS\".format(len(mnist_nets)))\n",
    "for i, net in enumerate(mnist_nets[:1]):\n",
    "    print(\"-\" * 30)\n",
    "    print(\"Training net {} of {}\".format(i + 1, len(mnist_nets)))\n",
    "    if net == mnist_nets[0]:\n",
    "        # initialize smallest net using Xavier Glorot-uniform distribution\n",
    "        gain = nn.init.calculate_gain(\"relu\")\n",
    "        nn.init.xavier_uniform_(net.hidden.weight, gain=gain)\n",
    "        nn.init.xavier_uniform_(net.out.weight, gain=gain) # or only for hidden?\n",
    "    else:\n",
    "        nn.init.normal_(net.hidden.weight, 0, 0.01)\n",
    "        initialize_with_previous_weights(net.hidden.weight, nets[i-1].hidden.weight)\n",
    "        initialize_with_previous_bias(net.hidden.bias, nets[i-1].hidden.bias)\n",
    "        nn.init.normal_(net.out.weight, 0, 0.01)\n",
    "            \n",
    "    # init learning rate not clear\n",
    "    optimizer = optimizers.SGD(net.parameters(), lr=0.001, momentum=0.95)\n",
    "    scheduler = MultiStepLR(optimizer, milestones=list(range(500, 6000, 500)), gamma=0.9)\n",
    "    train_losses = []\n",
    "    val_losses = []\n",
    "    for epoch in range(max_epochs):\n",
    "        running_loss = 0.0\n",
    "        net.train()\n",
    "        for data in mnist_trainloader:\n",
    "            inputs, labels = data\n",
    "            optimizer.zero_grad()\n",
    "            outputs = net(inputs)\n",
    "            loss = loss_function(outputs, labels)\n",
    "            loss.backward()\n",
    "            optimizer.step()\n",
    "            running_loss += loss.item()\n",
    "\n",
    "        train_losses.append(running_loss / len(mnist_trainloader))\n",
    "        \n",
    "        if net.num_parameters() < interpolation_threshold:\n",
    "            scheduler.step()\n",
    "\n",
    "        net.eval()\n",
    "        running_val_loss = 0.0\n",
    "        for data in mnist_valloader:\n",
    "            images, labels = data\n",
    "            outputs = net(images)\n",
    "            loss = loss_function(outputs, labels)\n",
    "            running_val_loss += loss.item()\n",
    "        val_losses.append(running_val_loss / len(mnist_valloader))\n",
    "        if epoch % 20 == 0:\n",
    "            print(\"+\" * 30)\n",
    "            print(\"Finished epoch {} of {}\".format(epoch + 1, max_epochs))\n",
    "            print(\"Training loss is: {}\".format(train_losses[-1]))\n",
    "            print(\"Validation loss is: {}\".format(val_losses[-1]))\n",
    "\n",
    "        if train_losses[-1] == 0.0 and net.num_parameters() < interpolation_threshold:\n",
    "            break\n",
    "                    \n",
    "    print(\"=\" * 30)\n",
    "    print(\"Finished training network with {} parameters\".format(net.num_parameters()))\n",
    "    print(\"Final train/val loss: {}/{}\".format(train_losses[-1], val_losses[-1]))\n",
    "    net_name = \"mnist_net_{}\".format(net.num_parameters())\n",
    "    path = os.path.join(\"data\", \"nets\", net_name)\n",
    "    print(\"Saving network to \\\"{}\\\"\".format(path))\n",
    "    torch.save(net.state_dict(), path)\n",
    "    all_train_losses[net_name] = train_losses\n",
    "    all_val_losses[net_name] = val_losses\n",
    "    print(\"Evaluating net on test set...\")\n",
    "    net.eval()\n",
    "    running_test_loss = 0.0\n",
    "    for data in mnist_testloader:\n",
    "        images, labels = data\n",
    "        outputs = net(images)\n",
    "        loss = loss_function(outputs, labels)\n",
    "        running_test_loss += loss.item()\n",
    "        _, predicted = torch.max(outputs.data, 1)\n",
    "        total += labels.size(0)\n",
    "        correct += (predicted == labels).sum().item()\n",
    "    test_loss = running_test_loss / len(mnist_testloader)\n",
    "    print(\"Testloss is: {}\".format(test_loss))\n",
    "    print(\"Accuracy is: {}\".format(correct/total))\n",
    "    all_test_losses[net_name] = test_loss\n"
   ]
  },
  {
   "cell_type": "code",
   "execution_count": 64,
   "metadata": {
    "autoscroll": false,
    "collapsed": false,
    "ein.hycell": false,
    "ein.tags": "worksheet-0",
    "slideshow": {
     "slide_type": "-"
    }
   },
   "outputs": [
    {
     "data": {
      "image/png": "[encoded data removed]",
      "text/plain": [
       "<Figure size 432x288 with 1 Axes>"
      ]
     },
     "metadata": {},
     "output_type": "display_data"
    }
   ],
   "source": [
    "plt.plot(train_losses)\n",
    "plt.plot(val_losses)\n",
    "plt.show()"
   ]
  }
 ],
 "metadata": {
  "kernelspec": {
   "argv": [
    "/usr/bin/python3",
    "-m",
    "ipykernel_launcher",
    "-f",
    "{connection_file}"
   ],
   "display_name": "Python 3",
   "env": null,
   "interrupt_mode": "signal",
   "language": "python",
   "metadata": null,
   "name": "python3"
  },
  "name": "rff.ipynb"
 },
 "nbformat": 4,
 "nbformat_minor": 2
}
